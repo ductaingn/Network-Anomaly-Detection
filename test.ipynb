{
 "cells": [
  {
   "cell_type": "code",
   "execution_count": 75,
   "metadata": {},
   "outputs": [],
   "source": [
    "import pandas as pd\n",
    "import pickle as pk\n",
    "import matplotlib.pyplot as plt\n",
    "import os\n",
    "from sklearn.ensemble import RandomForestClassifier\n",
    "from sklearn.model_selection import train_test_split"
   ]
  },
  {
   "cell_type": "code",
   "execution_count": 76,
   "metadata": {},
   "outputs": [],
   "source": [
    "df = pd.read_csv('./Data/kddcup99/corrected/corrected')"
   ]
  },
  {
   "cell_type": "code",
   "execution_count": 77,
   "metadata": {},
   "outputs": [],
   "source": [
    "df_x = df.iloc[:,:41]\n",
    "df_y = df.iloc[:,41]\n",
    "df_x.columns=[\"duration\",\"protocol_type\",\"service\",\"flag\",\"src_bytes\",\"dst_bytes\",\"land\",\"wrong_fragment\",\"urgent\",\"hot\",\"num_failed_logins\",\"logged_in\",\"num_compromised\",\"root_shell\",\"su_attempted\",\"num_root\",\"num_file_creations\",\"num_shells\",\"num_access_files\",\"num_outbound_cmds\",\"is_host_login\",\"is_guest_login\",\"count\",\"srv_count\",\"serror_rate\",\"srv_serror_rate\",\"rerror_rate\",\"srv_rerror_rate\",\"same_srv_rate\",\"diff_srv_rate\",\"srv_diff_host_rate\",\"dst_host_count\",\"dst_host_srv_count\",\"dst_host_same_srv_rate\",\"dst_host_diff_srv_rate\",\"dst_host_same_src_port_rate\",\"dst_host_srv_diff_host_rate\",\"dst_host_serror_rate\",\"dst_host_srv_serror_rate\",\"dst_host_rerror_rate\",\"dst_host_srv_rerror_rate\"]"
   ]
  },
  {
   "cell_type": "code",
   "execution_count": 228,
   "metadata": {},
   "outputs": [
    {
     "name": "stdout",
     "output_type": "stream",
     "text": [
      "{'udp': 0, 'tcp': 1, 'icmp': 2} {'private': 0, 'domain_u': 1, 'http': 2, 'smtp': 3, 'ftp_data': 4, 'ftp': 5, 'eco_i': 6, 'other': 7, 'auth': 8, 'ecr_i': 9, 'IRC': 10, 'X11': 11, 'finger': 12, 'time': 13, 'domain': 14, 'telnet': 15, 'pop_3': 16, 'ldap': 17, 'login': 18, 'name': 19, 'ntp_u': 20, 'http_443': 21, 'sunrpc': 22, 'printer': 23, 'systat': 24, 'tim_i': 25, 'netstat': 26, 'remote_job': 27, 'link': 28, 'urp_i': 29, 'sql_net': 30, 'bgp': 31, 'pop_2': 32, 'tftp_u': 33, 'uucp': 34, 'imap4': 35, 'pm_dump': 36, 'nnsp': 37, 'courier': 38, 'daytime': 39, 'iso_tsap': 40, 'echo': 41, 'discard': 42, 'ssh': 43, 'whois': 44, 'mtp': 45, 'gopher': 46, 'rje': 47, 'ctf': 48, 'supdup': 49, 'hostnames': 50, 'csnet_ns': 51, 'uucp_path': 52, 'nntp': 53, 'netbios_ns': 54, 'netbios_dgm': 55, 'netbios_ssn': 56, 'vmnet': 57, 'Z39_50': 58, 'exec': 59, 'shell': 60, 'efs': 61, 'klogin': 62, 'kshell': 63, 'icmp': 64} {'SF': 65, 'RSTR': 66, 'S1': 67, 'REJ': 68, 'S3': 69, 'RSTO': 70, 'S0': 71, 'S2': 72, 'RSTOS0': 73, 'SH': 74, 'OTH': 75}\n"
     ]
    }
   ],
   "source": [
    "prt_map ={}\n",
    "srv_map = {}\n",
    "flag_map = {}\n",
    "value = 0\n",
    "for i in df_x['protocol_type'].unique():\n",
    "    prt_map.update({i:value})\n",
    "    value+=1\n",
    "value = 0\n",
    "for i in df_x['service'].unique():\n",
    "    srv_map.update({i:value})\n",
    "    value+=1\n",
    "\n",
    "for i in df_x['flag'].unique():\n",
    "    flag_map.update({i:value})\n",
    "    value+=1\n",
    "\n",
    "print(prt_map,srv_map,flag_map)"
   ]
  },
  {
   "cell_type": "code",
   "execution_count": 229,
   "metadata": {},
   "outputs": [],
   "source": [
    "df_x['protocol_type'] = df_x['protocol_type'].map(prt_map)\n",
    "df_x['service'] = df_x['service'].map(srv_map)\n",
    "df_x['flag'] = df_x['flag'].map(flag_map)"
   ]
  },
  {
   "cell_type": "code",
   "execution_count": 230,
   "metadata": {},
   "outputs": [
    {
     "data": {
      "text/plain": [
       "0                normal\n",
       "1                normal\n",
       "2         snmpgetattack\n",
       "3         snmpgetattack\n",
       "4         snmpgetattack\n",
       "              ...      \n",
       "311023           normal\n",
       "311024           normal\n",
       "311025           normal\n",
       "311026           normal\n",
       "311027           normal\n",
       "Name: normal., Length: 311028, dtype: object"
      ]
     },
     "execution_count": 230,
     "metadata": {},
     "output_type": "execute_result"
    }
   ],
   "source": [
    "df_y = df_y.str.replace('.','')\n",
    "df_y"
   ]
  },
  {
   "cell_type": "code",
   "execution_count": 232,
   "metadata": {},
   "outputs": [
    {
     "data": {
      "text/plain": [
       "{'normal': 0,\n",
       " 'snmpgetattack': 1,\n",
       " 'named': 2,\n",
       " 'xlock': 3,\n",
       " 'smurf': 4,\n",
       " 'ipsweep': 5,\n",
       " 'multihop': 6,\n",
       " 'xsnoop': 7,\n",
       " 'sendmail': 8,\n",
       " 'guess_passwd': 9,\n",
       " 'saint': 10,\n",
       " 'buffer_overflow': 11,\n",
       " 'portsweep': 12,\n",
       " 'pod': 13,\n",
       " 'apache2': 14,\n",
       " 'phf': 15,\n",
       " 'udpstorm': 16,\n",
       " 'warezmaster': 17,\n",
       " 'perl': 18,\n",
       " 'satan': 19,\n",
       " 'xterm': 20,\n",
       " 'mscan': 21,\n",
       " 'processtable': 22,\n",
       " 'ps': 23,\n",
       " 'nmap': 24,\n",
       " 'rootkit': 25,\n",
       " 'neptune': 26,\n",
       " 'loadmodule': 27,\n",
       " 'imap': 28,\n",
       " 'back': 29,\n",
       " 'httptunnel': 30,\n",
       " 'worm': 31,\n",
       " 'mailbomb': 32,\n",
       " 'ftp_write': 33,\n",
       " 'teardrop': 34,\n",
       " 'land': 35,\n",
       " 'sqlattack': 36,\n",
       " 'snmpguess': 37}"
      ]
     },
     "execution_count": 232,
     "metadata": {},
     "output_type": "execute_result"
    }
   ],
   "source": [
    "map_y_label={}\n",
    "value=0\n",
    "for i in df_y.unique():\n",
    "    map_y_label.update({i:value})\n",
    "    value+=1\n",
    "map_y_label"
   ]
  },
  {
   "cell_type": "code",
   "execution_count": 233,
   "metadata": {},
   "outputs": [],
   "source": [
    "df_y = df_y.map(map_y_label)"
   ]
  },
  {
   "cell_type": "code",
   "execution_count": 235,
   "metadata": {},
   "outputs": [
    {
     "data": {
      "text/plain": [
       "0"
      ]
     },
     "execution_count": 235,
     "metadata": {},
     "output_type": "execute_result"
    }
   ],
   "source": [
    "df_y.loc[df_y.isna()].size"
   ]
  },
  {
   "cell_type": "code",
   "execution_count": 236,
   "metadata": {},
   "outputs": [],
   "source": [
    "x_train,x_test,y_train,y_test = train_test_split(df_x,df_y,test_size=0.2,random_state=4)"
   ]
  },
  {
   "cell_type": "code",
   "execution_count": 220,
   "metadata": {},
   "outputs": [
    {
     "name": "stdout",
     "output_type": "stream",
     "text": [
      "{'normal': 'normal', 'back': 'dos', 'buffer_overflow': 'u2r', 'ftp_write': 'r2l', 'guess_passwd': 'r2l', 'imap': 'r2l', 'ipsweep': 'probe', 'land': 'dos', 'loadmodule': 'u2r', 'multihop': 'r2l', 'neptune': 'dos', 'nmap': 'probe', 'perl': 'u2r', 'phf': 'r2l', 'pod': 'dos', 'portsweep': 'probe', 'rootkit': 'u2r', 'satan': 'probe', 'smurf': 'dos', 'spy': 'r2l', 'teardrop': 'dos', 'warezclient': 'r2l', 'warezmaster': 'r2l'}\n"
     ]
    }
   ],
   "source": [
    "attack_type = 'normal normal \\\n",
    "back dos \\\n",
    "buffer_overflow u2r \\\n",
    "ftp_write r2l \\\n",
    "guess_passwd r2l \\\n",
    "imap r2l \\\n",
    "ipsweep probe \\\n",
    "land dos \\\n",
    "loadmodule u2r \\\n",
    "multihop r2l \\\n",
    "neptune dos \\\n",
    "nmap probe \\\n",
    "perl u2r \\\n",
    "phf r2l \\\n",
    "pod dos \\\n",
    "portsweep probe \\\n",
    "rootkit u2r \\\n",
    "satan probe \\\n",
    "smurf dos \\\n",
    "spy r2l \\\n",
    "teardrop dos \\\n",
    "warezclient r2l \\\n",
    "warezmaster r2l '\n",
    "dic={}\n",
    "tp=''\n",
    "nm=''\n",
    "space=0\n",
    "value=0\n",
    "for i in range(len(attack_type)):\n",
    "    if(attack_type[i]==' '):\n",
    "        if(space == 0):\n",
    "            space=1\n",
    "        elif(space == 1):\n",
    "            dic.update({tp:nm})\n",
    "            tp=''\n",
    "            nm=''\n",
    "            value+=1\n",
    "            space=0\n",
    "    else:\n",
    "        if(space==0):\n",
    "            tp+=attack_type[i]\n",
    "        elif(space==1):\n",
    "            nm+=attack_type[i]\n",
    "print(dic)"
   ]
  },
  {
   "cell_type": "code",
   "execution_count": 237,
   "metadata": {},
   "outputs": [
    {
     "data": {
      "text/html": [
       "<style>#sk-container-id-4 {color: black;}#sk-container-id-4 pre{padding: 0;}#sk-container-id-4 div.sk-toggleable {background-color: white;}#sk-container-id-4 label.sk-toggleable__label {cursor: pointer;display: block;width: 100%;margin-bottom: 0;padding: 0.3em;box-sizing: border-box;text-align: center;}#sk-container-id-4 label.sk-toggleable__label-arrow:before {content: \"▸\";float: left;margin-right: 0.25em;color: #696969;}#sk-container-id-4 label.sk-toggleable__label-arrow:hover:before {color: black;}#sk-container-id-4 div.sk-estimator:hover label.sk-toggleable__label-arrow:before {color: black;}#sk-container-id-4 div.sk-toggleable__content {max-height: 0;max-width: 0;overflow: hidden;text-align: left;background-color: #f0f8ff;}#sk-container-id-4 div.sk-toggleable__content pre {margin: 0.2em;color: black;border-radius: 0.25em;background-color: #f0f8ff;}#sk-container-id-4 input.sk-toggleable__control:checked~div.sk-toggleable__content {max-height: 200px;max-width: 100%;overflow: auto;}#sk-container-id-4 input.sk-toggleable__control:checked~label.sk-toggleable__label-arrow:before {content: \"▾\";}#sk-container-id-4 div.sk-estimator input.sk-toggleable__control:checked~label.sk-toggleable__label {background-color: #d4ebff;}#sk-container-id-4 div.sk-label input.sk-toggleable__control:checked~label.sk-toggleable__label {background-color: #d4ebff;}#sk-container-id-4 input.sk-hidden--visually {border: 0;clip: rect(1px 1px 1px 1px);clip: rect(1px, 1px, 1px, 1px);height: 1px;margin: -1px;overflow: hidden;padding: 0;position: absolute;width: 1px;}#sk-container-id-4 div.sk-estimator {font-family: monospace;background-color: #f0f8ff;border: 1px dotted black;border-radius: 0.25em;box-sizing: border-box;margin-bottom: 0.5em;}#sk-container-id-4 div.sk-estimator:hover {background-color: #d4ebff;}#sk-container-id-4 div.sk-parallel-item::after {content: \"\";width: 100%;border-bottom: 1px solid gray;flex-grow: 1;}#sk-container-id-4 div.sk-label:hover label.sk-toggleable__label {background-color: #d4ebff;}#sk-container-id-4 div.sk-serial::before {content: \"\";position: absolute;border-left: 1px solid gray;box-sizing: border-box;top: 0;bottom: 0;left: 50%;z-index: 0;}#sk-container-id-4 div.sk-serial {display: flex;flex-direction: column;align-items: center;background-color: white;padding-right: 0.2em;padding-left: 0.2em;position: relative;}#sk-container-id-4 div.sk-item {position: relative;z-index: 1;}#sk-container-id-4 div.sk-parallel {display: flex;align-items: stretch;justify-content: center;background-color: white;position: relative;}#sk-container-id-4 div.sk-item::before, #sk-container-id-4 div.sk-parallel-item::before {content: \"\";position: absolute;border-left: 1px solid gray;box-sizing: border-box;top: 0;bottom: 0;left: 50%;z-index: -1;}#sk-container-id-4 div.sk-parallel-item {display: flex;flex-direction: column;z-index: 1;position: relative;background-color: white;}#sk-container-id-4 div.sk-parallel-item:first-child::after {align-self: flex-end;width: 50%;}#sk-container-id-4 div.sk-parallel-item:last-child::after {align-self: flex-start;width: 50%;}#sk-container-id-4 div.sk-parallel-item:only-child::after {width: 0;}#sk-container-id-4 div.sk-dashed-wrapped {border: 1px dashed gray;margin: 0 0.4em 0.5em 0.4em;box-sizing: border-box;padding-bottom: 0.4em;background-color: white;}#sk-container-id-4 div.sk-label label {font-family: monospace;font-weight: bold;display: inline-block;line-height: 1.2em;}#sk-container-id-4 div.sk-label-container {text-align: center;}#sk-container-id-4 div.sk-container {/* jupyter's `normalize.less` sets `[hidden] { display: none; }` but bootstrap.min.css set `[hidden] { display: none !important; }` so we also need the `!important` here to be able to override the default hidden behavior on the sphinx rendered scikit-learn.org. See: https://github.com/scikit-learn/scikit-learn/issues/21755 */display: inline-block !important;position: relative;}#sk-container-id-4 div.sk-text-repr-fallback {display: none;}</style><div id=\"sk-container-id-4\" class=\"sk-top-container\"><div class=\"sk-text-repr-fallback\"><pre>RandomForestClassifier()</pre><b>In a Jupyter environment, please rerun this cell to show the HTML representation or trust the notebook. <br />On GitHub, the HTML representation is unable to render, please try loading this page with nbviewer.org.</b></div><div class=\"sk-container\" hidden><div class=\"sk-item\"><div class=\"sk-estimator sk-toggleable\"><input class=\"sk-toggleable__control sk-hidden--visually\" id=\"sk-estimator-id-4\" type=\"checkbox\" checked><label for=\"sk-estimator-id-4\" class=\"sk-toggleable__label sk-toggleable__label-arrow\">RandomForestClassifier</label><div class=\"sk-toggleable__content\"><pre>RandomForestClassifier()</pre></div></div></div></div></div>"
      ],
      "text/plain": [
       "RandomForestClassifier()"
      ]
     },
     "execution_count": 237,
     "metadata": {},
     "output_type": "execute_result"
    }
   ],
   "source": [
    "rf = RandomForestClassifier(n_estimators=100)\n",
    "rf.fit(x_train,y_train)"
   ]
  },
  {
   "cell_type": "code",
   "execution_count": 238,
   "metadata": {},
   "outputs": [],
   "source": [
    "y_predict = rf.predict(x_test)"
   ]
  },
  {
   "cell_type": "code",
   "execution_count": 239,
   "metadata": {},
   "outputs": [],
   "source": [
    "score = rf.score(x_test,y_test)"
   ]
  },
  {
   "cell_type": "code",
   "execution_count": 240,
   "metadata": {},
   "outputs": [
    {
     "name": "stdout",
     "output_type": "stream",
     "text": [
      "0.9810789955952802\n"
     ]
    }
   ],
   "source": [
    "print(score)"
   ]
  }
 ],
 "metadata": {
  "kernelspec": {
   "display_name": "Python 3",
   "language": "python",
   "name": "python3"
  },
  "language_info": {
   "codemirror_mode": {
    "name": "ipython",
    "version": 3
   },
   "file_extension": ".py",
   "mimetype": "text/x-python",
   "name": "python",
   "nbconvert_exporter": "python",
   "pygments_lexer": "ipython3",
   "version": "3.10.12"
  }
 },
 "nbformat": 4,
 "nbformat_minor": 2
}
